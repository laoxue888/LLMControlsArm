{
 "cells": [
  {
   "cell_type": "code",
   "execution_count": 3,
   "id": "6ab242e8",
   "metadata": {},
   "outputs": [
    {
     "name": "stdout",
     "output_type": "stream",
     "text": [
      "{'question': '世界上最长的河流是哪一条？', 'answer': '尼罗河'}\n"
     ]
    }
   ],
   "source": [
    "import json\n",
    "from openai import OpenAI\n",
    "\n",
    "client = OpenAI(\n",
    "    api_key=\"sk-bda36ce6acda4b50a00d327c32a48f80\",\n",
    "    base_url=\"https://api.deepseek.com\",\n",
    ")\n",
    "\n",
    "system_prompt = \"\"\"\n",
    "用户将提供一些考试文本。请解析“question”和“answer”，并以JSON格式输出。\n",
    "\n",
    "输入例子: \n",
    "世界上最高的山是哪一座？珠穆朗玛峰。\n",
    "\n",
    "json输出示例:\n",
    "{\n",
    "    \"question\": \"世界上最高的山是哪一座？\",\n",
    "    \"answer\": \"珠穆朗玛峰\"\n",
    "}\n",
    "\"\"\"\n",
    "\n",
    "user_prompt = \"世界上最长的河流是哪一条？尼罗河。\"\n",
    "\n",
    "messages = [{\"role\": \"system\", \"content\": system_prompt},\n",
    "            {\"role\": \"user\", \"content\": user_prompt}]\n",
    "\n",
    "response = client.chat.completions.create(\n",
    "    model=\"deepseek-chat\",\n",
    "    messages=messages,\n",
    "    response_format={\n",
    "        'type': 'json_object'\n",
    "    }\n",
    ")\n",
    "\n",
    "print(json.loads(response.choices[0].message.content))"
   ]
  },
  {
   "cell_type": "code",
   "execution_count": null,
   "id": "127e91b7",
   "metadata": {},
   "outputs": [
    {
     "name": "stdout",
     "output_type": "stream",
     "text": [
      "{'position.x': 0.3, 'position.y': 0.3, 'position.z': 0.8, 'orientation.x': 0.0, 'orientation.y': 0.0, 'orientation.z': 0.0, 'orientation.w': 1.0, 'answer': '已锁定目标物体位置，准备进行抓取动作。'}\n"
     ]
    }
   ],
   "source": [
    "import json\n",
    "from openai import OpenAI\n",
    "\n",
    "client = OpenAI(\n",
    "    api_key=\"sk-bda36ce6acda4b50a00d327c32a48f80\",\n",
    "    base_url=\"https://api.deepseek.com\",\n",
    ")\n",
    "\n",
    "system_prompt = \"\"\"\n",
    "你是一个六自由度的机械臂，其中的answer答复要有拟人性。\n",
    "\n",
    "请按照用户的意图给出机械臂末端的位置和姿态。\n",
    "\n",
    "json输出示例:\n",
    "{\n",
    "    \"position.x\": 0.3,\n",
    "    \"position.y\": 0.3,\n",
    "    \"position.z\": 0.2,\n",
    "    \"orientation.x\": 0.0,\n",
    "    \"orientation.y\": 0.0,\n",
    "    \"orientation.z\": 0.0,\n",
    "    \"orientation.w\": 1.0,\n",
    "    \"question\": \"抓起空间中位置为(0.3, 0.3, 0.8)的物体\",\n",
    "    \"answer\": \"已给出目标位置和姿态，后续将进行规划执行动作。\"\n",
    "}\n",
    "\"\"\"\n",
    "\n",
    "user_prompt = \"抓起空间中位置为(0.3, 0.3, 0.8)的物体\"\n",
    "\n",
    "messages = [{\"role\": \"system\", \"content\": system_prompt},\n",
    "            {\"role\": \"user\", \"content\": user_prompt}]\n",
    "\n",
    "response = client.chat.completions.create(\n",
    "    model=\"deepseek-chat\",\n",
    "    messages=messages,\n",
    "    response_format={\n",
    "        'type': 'json_object'\n",
    "    }\n",
    ")\n",
    "\n",
    "print(json.loads(response.choices[0].message.content))"
   ]
  },
  {
   "cell_type": "code",
   "execution_count": 4,
   "id": "7e564a97",
   "metadata": {},
   "outputs": [
    {
     "name": "stdout",
     "output_type": "stream",
     "text": [
      "{'position.x': 0.3, 'position.y': 0.3, 'position.z': 0.8, 'orientation.x': 0.0, 'orientation.y': 0.0, 'orientation.z': 0.0, 'orientation.w': 1.0, 'gripper_state': 'open', 'answer': '已锁定目标物体位置，准备进行抓取动作。'}\n",
      "{'position.x': 0.3, 'position.y': 0.3, 'position.z': 0.8, 'orientation.x': 0.0, 'orientation.y': 0.0, 'orientation.z': 0.0, 'orientation.w': 1.0, 'gripper_state': 'close', 'answer': '爪子已关闭，物体已被牢固抓取。'}\n"
     ]
    }
   ],
   "source": [
    "import json\n",
    "from openai import OpenAI\n",
    "client = OpenAI(api_key=\"sk-bda36ce6acda4b50a00d327c32a48f80\", base_url=\"https://api.deepseek.com\")\n",
    "system_prompt = \"\"\"\n",
    "                你是一个六自由度的机械臂，其中的answer答复要有拟人性。\n",
    "\n",
    "                请按照用户的意图给出机械臂末端的位置和姿态。\n",
    "\n",
    "                json输出示例:\n",
    "                {\n",
    "                    \"position.x\": 0.3,\n",
    "                    \"position.y\": 0.3,\n",
    "                    \"position.z\": 0.2,\n",
    "                    \"orientation.x\": 0.0,\n",
    "                    \"orientation.y\": 0.0,\n",
    "                    \"orientation.z\": 0.0,\n",
    "                    \"orientation.w\": 1.0,\n",
    "                    \"gripper_state\": \"open\", #只有open和close\n",
    "                    \"answer\": \"已给出目标位置和姿态，后续将进行规划执行动作。\"\n",
    "                }\n",
    "                \"\"\"\n",
    "system_message = {\"role\": \"system\", \"content\": system_prompt}\n",
    "\n",
    "messages = [system_message]\n",
    "\n",
    "# 创建聊天请求\n",
    "messages.append({\"role\": \"user\", \"content\": \"抓取空间中位置为(0.3, 0.3, 0.8)的物体\"})\n",
    "response = client.chat.completions.create(\n",
    "    model=\"deepseek-chat\",\n",
    "    messages=messages,\n",
    "    response_format={\n",
    "        'type': 'json_object'\n",
    "    }\n",
    ")\n",
    "messages.append(response.choices[0].message)\n",
    "print(json.loads(response.choices[0].message.content))\n",
    "\n",
    "# 创建聊天请求\n",
    "messages.append({\"role\": \"user\", \"content\": \"关闭爪子\"})\n",
    "response = client.chat.completions.create(\n",
    "    model=\"deepseek-chat\",\n",
    "    messages=messages,\n",
    "    response_format={\n",
    "        'type': 'json_object'\n",
    "    }\n",
    ")\n",
    "messages.append(response.choices[0].message)\n",
    "print(json.loads(response.choices[0].message.content))\n"
   ]
  },
  {
   "cell_type": "code",
   "execution_count": 3,
   "id": "e750e6b1",
   "metadata": {},
   "outputs": [
    {
     "name": "stdout",
     "output_type": "stream",
     "text": [
      "普通花括号: {} 和格式化占位符: value 2\n"
     ]
    }
   ],
   "source": [
    "s = \"普通花括号: {} 和格式化占位符: %s %s\" % (\"value\", 2)\n",
    "print(s)  # 输出: 普通花括号: {} 和格式化占位符: value"
   ]
  },
  {
   "cell_type": "code",
   "execution_count": 5,
   "id": "13d9e364",
   "metadata": {},
   "outputs": [
    {
     "name": "stdout",
     "output_type": "stream",
     "text": [
      "所有匹配项: ['json{key1: \"value1\"}', 'json{key2: \"value2\", key3: 123}']\n",
      "第一个匹配项: json{key1: \"value1\"}\n"
     ]
    }
   ],
   "source": [
    "import re\n",
    "\n",
    "text = \"\"\"\n",
    "这是一段示例文本，包含json{key1: \"value1\"}和其他内容，\n",
    "还有另一个json{key2: \"value2\", key3: 123}。\n",
    "\"\"\"\n",
    "\n",
    "# 方法1：使用 re.findall 提取所有匹配的 json{...} 内容\n",
    "matches = re.findall(r'json\\{.*?\\}', text)  # 非贪婪匹配，防止跨越多组\n",
    "print(\"所有匹配项:\", matches)\n",
    "\n",
    "# 方法2：使用 re.search 提取第一个匹配项\n",
    "first_match = re.search(r'json\\{.*?\\}', text)\n",
    "if first_match:\n",
    "    print(\"第一个匹配项:\", first_match.group())"
   ]
  },
  {
   "cell_type": "code",
   "execution_count": null,
   "id": "f23b294f",
   "metadata": {},
   "outputs": [
    {
     "name": "stdout",
     "output_type": "stream",
     "text": [
      "所有匹配项: ['\\n    \"position.x\": 0.25,\\n    \"position.y\": -4.053684749331411e-05,\\n    \"position.z\": 0.9815004663961149,\\n    \"orientation.x\": 0.967852928264713,\\n    \"orientation.y\": 0.0001232055287253407,\\n    \"orientation.z\": 0.2514668376341823,\\n    \"orientation.w\": 0.005012348758976822,\\n    \"gripper_state\": \"open\",\\n    \"answer\": \"已根据您的指令将末端位置向前调整了0.05米，当前姿态保持不变。请告诉我是否需要进一步调整或执行其他操作。\"\\n']\n",
      "所有匹配项: {\n",
      "    \"position.x\": 0.25,\n",
      "    \"position.y\": -4.053684749331411e-05,\n",
      "    \"position.z\": 0.9815004663961149,\n",
      "    \"orientation.x\": 0.967852928264713,\n",
      "    \"orientation.y\": 0.0001232055287253407,\n",
      "    \"orientation.z\": 0.2514668376341823,\n",
      "    \"orientation.w\": 0.005012348758976822,\n",
      "    \"gripper_state\": \"open\",\n",
      "    \"answer\": \"已根据您的指令将末端位置向前调整了0.05米，当前姿态保持不变。请告诉我是否需要进一步调整或执行其他操作。\"\n",
      "}\n"
     ]
    }
   ],
   "source": [
    "import re\n",
    "\n",
    "text = '```json\\n{\\n    \"position.x\": 0.25,\\n    \"position.y\": -4.053684749331411e-05,\\n    \"position.z\": 0.9815004663961149,\\n    \"orientation.x\": 0.967852928264713,\\n    \"orientation.y\": 0.0001232055287253407,\\n    \"orientation.z\": 0.2514668376341823,\\n    \"orientation.w\": 0.005012348758976822,\\n    \"gripper_state\": \"open\",\\n    \"answer\": \"已根据您的指令将末端位置向前调整了0.05米，当前姿态保持不变。请告诉我是否需要进一步调整或执行其他操作。\"\\n}\\n```'\n",
    "\n",
    "# 提取所有 {...} 的内容（包括大括号）\n",
    "pattern = r'\\{([^{}]*)\\}'\n",
    "matches = re.findall(pattern, text)\n",
    "mytext = '{' + matches[0] + '}'\n",
    "print(\"所有匹配项:\", matches)\n",
    "print(\"所有匹配项:\", mytext)"
   ]
  },
  {
   "cell_type": "code",
   "execution_count": 14,
   "id": "eeae321a",
   "metadata": {},
   "outputs": [
    {
     "name": "stdout",
     "output_type": "stream",
     "text": [
      "所有匹配项: ['\\n    \"position.x\": 0.25,\\n    \"position.y\": -4.053684749331411e-05,\\n    \"position.z\": 0.9815004663961149,\\n    \"orientation.x\": 0.967852928264713,\\n    \"orientation.y\": 0.0001232055287253407,\\n    \"orientation.z\": 0.2514668376341823,\\n    \"orientation.w\": 0.005012348758976822,\\n    \"gripper_state\": \"open\",\\n    \"answer\": \"已根据您的指令将末端位置向前调整了0.05米，当前姿态保持不变。请告诉我是否需要进一步调整或执行其他操作。\"\\n']\n",
      "所有匹配项: {\n",
      "    \"position.x\": 0.25,\n",
      "    \"position.y\": -4.053684749331411e-05,\n",
      "    \"position.z\": 0.9815004663961149,\n",
      "    \"orientation.x\": 0.967852928264713,\n",
      "    \"orientation.y\": 0.0001232055287253407,\n",
      "    \"orientation.z\": 0.2514668376341823,\n",
      "    \"orientation.w\": 0.005012348758976822,\n",
      "    \"gripper_state\": \"open\",\n",
      "    \"answer\": \"已根据您的指令将末端位置向前调整了0.05米，当前姿态保持不变。请告诉我是否需要进一步调整或执行其他操作。\"\n",
      "}\n"
     ]
    }
   ],
   "source": [
    "text1 = '{\\n    \"position.x\": 0.25,\\n    \"position.y\": -4.053684749331411e-05,\\n    \"position.z\": 0.9815004663961149,\\n    \"orientation.x\": 0.967852928264713,\\n    \"orientation.y\": 0.0001232055287253407,\\n    \"orientation.z\": 0.2514668376341823,\\n    \"orientation.w\": 0.005012348758976822,\\n    \"gripper_state\": \"open\",\\n    \"answer\": \"已根据您的指令将末端位置向前调整了0.05米，当前姿态保持不变。请告诉我是否需要进一步调整或执行其他操作。\"\\n}'\n",
    "\n",
    "\n",
    "# 提取所有 {...} 的内容（包括大括号）\n",
    "pattern = r'\\{([^{}]*)\\}'\n",
    "matches = re.findall(pattern, text)\n",
    "mytext = '{' + matches[0] + '}'\n",
    "print(\"所有匹配项:\", matches)\n",
    "print(\"所有匹配项:\", mytext)"
   ]
  },
  {
   "cell_type": "code",
   "execution_count": 2,
   "id": "f8e94cb2",
   "metadata": {},
   "outputs": [
    {
     "name": "stdout",
     "output_type": "stream",
     "text": [
      "1745925545.0378168\n"
     ]
    }
   ],
   "source": [
    "import time\n",
    "\n",
    "timestamp = time.time()  # 返回浮点数，单位秒，小数点后是毫秒和微秒\n",
    "milliseconds = int(timestamp * 1000)  # 转换为毫秒时间戳\n",
    "print(timestamp)"
   ]
  }
 ],
 "metadata": {
  "kernelspec": {
   "display_name": "Python 3",
   "language": "python",
   "name": "python3"
  },
  "language_info": {
   "codemirror_mode": {
    "name": "ipython",
    "version": 3
   },
   "file_extension": ".py",
   "mimetype": "text/x-python",
   "name": "python",
   "nbconvert_exporter": "python",
   "pygments_lexer": "ipython3",
   "version": "3.12.3"
  }
 },
 "nbformat": 4,
 "nbformat_minor": 5
}
